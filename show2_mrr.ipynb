{
 "cells": [
  {
   "cell_type": "code",
   "id": "add0e148e041f9e7",
   "metadata": {},
   "source": [
    "import numpy as np\n",
    "import pandas as pd\n",
    "import seaborn as sns\n",
    "import matplotlib.colors as mcolors\n",
    "\n",
    "from scipy import stats\n",
    "from matplotlib import rcParams\n",
    "\n",
    "from irt import Beta3\n",
    "import matplotlib.pyplot as plt"
   ],
   "outputs": [],
   "execution_count": null
  },
  {
   "cell_type": "code",
   "id": "8396d8e18cdcb159",
   "metadata": {
    "collapsed": false,
    "jupyter": {
     "outputs_hidden": false
    }
   },
   "source": [
    "pij = pd.read_csv('./ReSys2_mrr.csv')\n",
    "pij.set_index(pij.columns[0], inplace=True)\n"
   ],
   "outputs": [],
   "execution_count": null
  },
  {
   "metadata": {},
   "cell_type": "code",
   "source": "normalized_df = pij",
   "id": "b45b1b8b682f4845",
   "outputs": [],
   "execution_count": null
  },
  {
   "cell_type": "code",
   "id": "89d5df170973eb72",
   "metadata": {},
   "source": [
    "def ICC_function(abilities, difficulties, discriminations):\n",
    "    a = ((1-abilities)/ abilities)\n",
    "    b = (difficulties / (1-difficulties))\n",
    "    c = a*b\n",
    "    d = c**discriminations\n",
    "    return (1 / (d+1))"
   ],
   "outputs": [],
   "execution_count": null
  },
  {
   "cell_type": "code",
   "id": "41ac9376aa131885",
   "metadata": {},
   "source": [
    "b4 = Beta3(\n",
    "        learning_rate=100, \n",
    "        epochs=10000,\n",
    "        n_respondents=normalized_df.shape[1], \n",
    "        n_items=normalized_df.shape[0],\n",
    "        n_workers=-1,\n",
    "        random_seed=1,\n",
    "    )\n",
    "b4.fit(normalized_df.values)"
   ],
   "outputs": [],
   "execution_count": null
  },
  {
   "metadata": {},
   "cell_type": "code",
   "source": "b4.abilities",
   "id": "780aadbb0eb2f076",
   "outputs": [],
   "execution_count": null
  },
  {
   "metadata": {},
   "cell_type": "code",
   "source": "b4.difficulties",
   "id": "92da8cd64824bbdb",
   "outputs": [],
   "execution_count": null
  },
  {
   "metadata": {},
   "cell_type": "code",
   "source": "b4.discriminations",
   "id": "5dcb6c720f6eacc2",
   "outputs": [],
   "execution_count": null
  },
  {
   "cell_type": "code",
   "id": "af3ad46056328bd9",
   "metadata": {},
   "source": [
    "new_pij = pd.DataFrame(index=range(17), columns=range(11))\n",
    "\n",
    "for i in range(17):\n",
    "    for j in range(7):\n",
    "        alpha = (b4.abilities[j] / b4.difficulties[i]) ** b4.discriminations[i]\n",
    "        beta_val = ((1 - b4.abilities[j]) / (1 - b4.difficulties[i])) ** b4.discriminations[i]\n",
    "        new_pij.iloc[i, j] = (alpha)/(alpha+beta_val)"
   ],
   "outputs": [],
   "execution_count": null
  },
  {
   "cell_type": "code",
   "id": "ab06090872f71629",
   "metadata": {},
   "source": [
    "def plot_discriminations_difficulties(discriminations, difficulties, normalized_df, font_size=10, font_ann_size=8, base_point_size=500):\n",
    "    import matplotlib.cm as cm\n",
    "    \n",
    "    rcParams['font.family'] = 'serif'\n",
    "    rcParams['font.serif'] = ['Times New Roman']\n",
    "\n",
    "    sns.set_style('whitegrid')\n",
    "    fig, ax = plt.subplots(figsize=(3, 3))  # 调整图像大小\n",
    "    ax.grid(color='black', linestyle='--', linewidth=0.5)\n",
    "    \n",
    "    ax.spines['bottom'].set_color('black')\n",
    "    ax.spines['left'].set_color('black')\n",
    "    ax.spines['right'].set_color('black')\n",
    "    ax.spines['top'].set_color('black')\n",
    "    ax.xaxis.label.set_color('black')\n",
    "    ax.yaxis.label.set_color('black')\n",
    "    ax.tick_params(axis='x', colors='black')\n",
    "    ax.tick_params(axis='y', colors='black')\n",
    "    \n",
    "    # 定义颜色\n",
    "    colors = cm.tab20.colors  # 使用 matplotlib 内置调色板 Tab10\n",
    "    \n",
    "    for i in range(len(discriminations)):\n",
    "        ax.scatter(\n",
    "            discriminations[i],\n",
    "            difficulties[i],\n",
    "            label=f'{normalized_df.index[i]}',\n",
    "            edgecolors='black',  # 边框颜色\n",
    "            facecolors=colors[i % len(colors)],  # 设置不同的颜色\n",
    "            s=base_point_size,   # 控制点的大小\n",
    "            marker='o'           # 使用相同的圆形 marker\n",
    "        )\n",
    "    \n",
    "    plt.xlabel('Recommendation algorithm\\nconsistency', fontsize=font_size, family='Times New Roman', color='black')\n",
    "    plt.ylabel('Recommendation algorithm\\ndifficulty limit', fontsize=font_size, family='Times New Roman', color='black')\n",
    "\n",
    "    plt.legend(title='', fontsize=font_ann_size, bbox_to_anchor=(1, 0.75), loc='upper left', ncol=1, frameon=False)\n",
    "    \n",
    "    ax.set_ylim(-0.01, 0.3)\n",
    "    ax.set_xlim(0, 3)\n",
    "    \n",
    "    # x_min = int(discriminations.min())\n",
    "    # x_max = int(discriminations.max())\n",
    "        \n",
    "    # ax.set_xlim(x_min, x_max)\n",
    "    plt.savefig(\"Figure4a.pdf\", format=\"pdf\", bbox_inches='tight')\n",
    "    plt.show()\n",
    "\n",
    "# 调用函数\n",
    "plot_discriminations_difficulties(b4.discriminations, (1-b4.difficulties), normalized_df, font_size=10, font_ann_size=9, base_point_size=50)\n"
   ],
   "outputs": [],
   "execution_count": null
  },
  {
   "cell_type": "code",
   "id": "2d8c7787f68e39ec",
   "metadata": {},
   "source": [
    "fairness_model = normalized_df.apply(np.mean,axis=0).to_numpy()"
   ],
   "outputs": [],
   "execution_count": null
  },
  {
   "cell_type": "code",
   "id": "6286f543a58307b2",
   "metadata": {},
   "source": [
    "def create_abilities_fairness_table(name, abilities, fairness_model):\n",
    "    df = pd.DataFrame({\n",
    "        'Model': name,\n",
    "        'Ability': abilities,\n",
    "        'STS': fairness_model\n",
    "    })\n",
    "    \n",
    "    return df\n",
    "\n",
    "df = create_abilities_fairness_table(pij.columns, 1-b4.abilities, fairness_model)\n",
    "print(df)"
   ],
   "outputs": [],
   "execution_count": null
  },
  {
   "cell_type": "code",
   "id": "d79adf25a7fbfb42",
   "metadata": {},
   "source": [
    "def f(theta,delta_j,a_j):\n",
    "    term1 = (delta_j / (1 - delta_j)) ** a_j\n",
    "    term2 = (theta / (1 - theta)) ** (-a_j - 1)\n",
    "    numerator = a_j * term1 * term2\n",
    "    denominator = (1 + term1 * (theta / (1 - theta)) ** -a_j) ** 2\n",
    "    return numerator / denominator * (1 / (1 - theta) ** 2)"
   ],
   "outputs": [],
   "execution_count": null
  },
  {
   "cell_type": "code",
   "id": "a556150751a1bc7c",
   "metadata": {},
   "source": [
    "abilities = np.linspace(0.001, 0.999, 1000)"
   ],
   "outputs": [],
   "execution_count": null
  },
  {
   "cell_type": "code",
   "id": "6ecfe92457612c87",
   "metadata": {},
   "source": [
    "import matplotlib.cm as cm\n",
    "\n",
    "plt.figure(figsize=(3, 3))\n",
    "min_ability = np.min(b4.abilities)\n",
    "max_ability = np.max(b4.abilities)\n",
    "\n",
    "plt.rcParams[\"font.family\"] = \"Times New Roman\"\n",
    "\n",
    "sns.set_style('whitegrid')\n",
    "fig, ax = plt.subplots(figsize=(3, 3)) \n",
    "ax.grid(color='black', linestyle='--', linewidth=0.5)\n",
    "\n",
    "ax.spines['bottom'].set_color('black')\n",
    "ax.spines['left'].set_color('black')\n",
    "ax.spines['right'].set_color('black')\n",
    "ax.spines['top'].set_color('black')\n",
    "ax.xaxis.label.set_color('black')\n",
    "ax.yaxis.label.set_color('black')\n",
    "ax.tick_params(axis='x', colors='black')\n",
    "ax.tick_params(axis='y', colors='black')\n",
    "\n",
    "# 使用 tab20 调色板\n",
    "colors = cm.tab20.colors\n",
    "\n",
    "for index in range(17):\n",
    "    fairness_2 = ICC_function((1-abilities), b4.difficulties[index], b4.discriminations[index])\n",
    "    plt.plot(abilities, fairness_2, label=f'{normalized_df.index[index]}', color=colors[index % len(colors)])\n",
    "\n",
    "plt.fill_betweenx(np.arange(-0.05, 1.15, 0.1), (1-min_ability), (1-max_ability), color='gray', alpha=0.2)\n",
    "\n",
    "plt.xlim(-0.05, 1.05)\n",
    "plt.ylim(-0.05, 1.05)\n",
    "\n",
    "plt.gca().set_aspect('equal', adjustable='box')\n",
    "\n",
    "legend = plt.legend(loc='upper left', fontsize=9, bbox_to_anchor=(-1.05, 0.75), ncol=1, frameon=False)\n",
    "\n",
    "for text in legend.get_texts():\n",
    "    text.set_fontname('Times New Roman')\n",
    "    text.set_color('black')\n",
    "\n",
    "plt.xlabel(r'The inherent challenge of the dataset', fontsize=10, family='Times New Roman')\n",
    "plt.ylabel(r'nDCG@10', fontsize=10, family='Times New Roman')\n",
    "\n",
    "plt.grid(True)\n",
    "plt.savefig(\"Figure4b.pdf\", format=\"pdf\", bbox_inches='tight')\n",
    "plt.show()\n"
   ],
   "outputs": [],
   "execution_count": null
  },
  {
   "cell_type": "code",
   "id": "62a4e79b9f7c9792",
   "metadata": {},
   "source": [],
   "outputs": [],
   "execution_count": null
  }
 ],
 "metadata": {
  "kernelspec": {
   "display_name": "Python 3 (ipykernel)",
   "language": "python",
   "name": "python3"
  },
  "language_info": {
   "codemirror_mode": {
    "name": "ipython",
    "version": 3
   },
   "file_extension": ".py",
   "mimetype": "text/x-python",
   "name": "python",
   "nbconvert_exporter": "python",
   "pygments_lexer": "ipython3",
   "version": "3.9.13"
  }
 },
 "nbformat": 4,
 "nbformat_minor": 5
}
